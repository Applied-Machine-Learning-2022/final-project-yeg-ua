{
  "nbformat": 4,
  "nbformat_minor": 0,
  "metadata": {
    "colab": {
      "name": "Yolov5 DeepSort Pytorch tutorial.ipynb",
      "provenance": [],
      "collapsed_sections": [],
      "include_colab_link": true
    },
    "kernelspec": {
      "name": "python3",
      "display_name": "Python 3"
    },
    "language_info": {
      "name": "python"
    }
  },
  "cells": [
    {
      "cell_type": "markdown",
      "metadata": {
        "id": "view-in-github",
        "colab_type": "text"
      },
      "source": [
        "<a href=\"https://colab.research.google.com/github/Applied-Machine-Learning-2022/final-project-yeg-ua/blob/ellion0/Yolov5_DeepSort_Pytorch_tutorial.ipynb\" target=\"_parent\"><img src=\"https://colab.research.google.com/assets/colab-badge.svg\" alt=\"Open In Colab\"/></a>"
      ]
    },
    {
      "cell_type": "markdown",
      "metadata": {
        "id": "AIGuIpRFAo18"
      },
      "source": [
        "# Setup\n",
        "\n",
        "Clone repo, install dependencies and check PyTorch and GPU."
      ]
    },
    {
      "cell_type": "code",
      "metadata": {
        "colab": {
          "base_uri": "https://localhost:8080/"
        },
        "id": "taGCP-gCgqX8",
        "outputId": "783eaef9-5f74-4bff-8cf1-294537e6f591"
      },
      "source": [
        "!git clone --recurse-submodules https://github.com/mikel-brostrom/Yolov5_StrongSORT_OSNet.git  # clone repo\n",
        "%pip install -qr required.txt  # install dependencies\n",
        "\n",
        "import torch\n",
        "from IPython.display import Image, clear_output  # to display images\n",
        "\n",
        "clear_output()\n",
        "print(f\"Setup complete. Using torch {torch.__version__} ({torch.cuda.get_device_properties(0).name if torch.cuda.is_available() else 'CPU'})\")"
      ],
      "execution_count": 3,
      "outputs": [
        {
          "output_type": "stream",
          "name": "stdout",
          "text": [
            "Setup complete. Using torch 1.12.0+cu113 (CPU)\n"
          ]
        }
      ]
    },
    {
      "cell_type": "markdown",
      "metadata": {
        "id": "1JQRVPMtA9Cr"
      },
      "source": [
        "# Download data\n",
        "\n",
        "Get test video from repo and extract the first 2 seconds of it "
      ]
    },
    {
      "cell_type": "code",
      "metadata": {
        "colab": {
          "base_uri": "https://localhost:8080/"
        },
        "id": "4Acf_nRZ7yS6",
        "outputId": "da5acd35-9596-4be7-9089-947ac62aa393"
      },
      "source": [
        "%cd /content/Yolov5_StrongSORT_OSNet\n",
        "\n",
        "# get yolov5m model trained on the crowd-human dataset\n",
        "!wget -nc https://github.com/mikel-brostrom/Yolov5_StrongSORT_OSNet/releases/download/v.2.0/crowdhuman_yolov5m.pt -O /content/Yolov5_StrongSORT_OSNet/yolov5/crowdhuman_yolov5m.pt\n",
        "\n",
        "# # get the test video from the repo\n",
        "# !wget -nc https://github.com/mikel-brostrom/Yolov5_StrongSORT_OSNet/releases/download/v.2.0/test.avi\n",
        "# # extract 3 seconds worth of video frames of it\n",
        "# !yes | ffmpeg -ss 00:00:00 -i test.avi -t 00:00:02 -c copy out.avi"
      ],
      "execution_count": 5,
      "outputs": [
        {
          "output_type": "stream",
          "name": "stdout",
          "text": [
            "/content/Yolov5_StrongSORT_OSNet\n",
            "File ‘/content/Yolov5_StrongSORT_OSNet/yolov5/crowdhuman_yolov5m.pt’ already there; not retrieving.\n"
          ]
        }
      ]
    },
    {
      "cell_type": "markdown",
      "metadata": {
        "id": "oqIP5shr9HQd"
      },
      "source": [
        "## Run inference on video\n",
        "\n",
        "The ``cv2.imshow()`` and ``cv.imshow()`` functions from the [opencv-python](https://github.com/skvark/opencv-python) package are incompatible with Jupyter notebook; see https://github.com/jupyter/notebook/issues/3935. \n",
        "\n",
        "Hence we chose to save it to file in this notebook. Locally you can use the ``--show-vid`` flag in order visualize the tracking in real-time"
      ]
    },
    {
      "cell_type": "code",
      "source": [
        "!yes | ffmpeg -ss 00:00:01 -i /content/classVid.avi -t 00:00:46 -c copy out.avi"
      ],
      "metadata": {
        "id": "-CLmXwpmslRh"
      },
      "execution_count": null,
      "outputs": []
    },
    {
      "cell_type": "code",
      "source": [
        "!python /content/Yolov5_StrongSORT_OSNet/track.py --yolo-weights /content/Yolov5_StrongSORT_OSNet/yolov5/crowdhuman_yolov5m.pt --classes 0 --strong-sort-weights osnet_x0_25_msmt17.pt --source out.avi --save-vid"
      ],
      "metadata": {
        "id": "3yul-aDJtJQ7",
        "outputId": "37bfce86-6d77-4645-8d89-69ada16b0f7e",
        "colab": {
          "base_uri": "https://localhost:8080/"
        }
      },
      "execution_count": 6,
      "outputs": [
        {
          "output_type": "stream",
          "name": "stdout",
          "text": [
            "strong_sort/deep/reid/torchreid/metrics/rank.py:12: UserWarning: Cython evaluation (very fast so highly recommended) is unavailable, now use python evaluation.\n",
            "  'Cython evaluation (very fast so highly recommended) is '\n",
            "\u001b[34m\u001b[1mtrack: \u001b[0myolo_weights=['/content/Yolov5_StrongSORT_OSNet/yolov5/crowdhuman_yolov5m.pt'], strong_sort_weights=osnet_x0_25_msmt17.pt, config_strongsort=strong_sort/configs/strong_sort.yaml, source=out.avi, imgsz=[640, 640], conf_thres=0.5, iou_thres=0.5, max_det=1000, device=, show_vid=False, save_txt=False, save_conf=False, save_crop=False, save_vid=True, nosave=False, classes=[0], agnostic_nms=False, augment=False, visualize=False, update=False, project=runs/track, name=exp, exist_ok=False, line_thickness=3, hide_labels=False, hide_conf=False, hide_class=False, half=False, dnn=False\n",
            "YOLOv5 🚀 2022-7-26 Python-3.7.13 torch-1.12.0+cu113 CPU\n",
            "\n",
            "Fusing layers... \n",
            "Model summary: 308 layers, 21041679 parameters, 0 gradients\n",
            "Downloading...\n",
            "From: https://drive.google.com/uc?id=1Kkx2zW89jq_NETu4u42CFZTMVD5Hwm6e\n",
            "To: /content/Yolov5_StrongSORT_OSNet/osnet_x0_25_msmt17.pt\n",
            "100% 9.34M/9.34M [00:00<00:00, 30.5MB/s]\n",
            "Model: osnet_x0_25\n",
            "- params: 203,568\n",
            "- flops: 82,316,000\n",
            "Successfully loaded pretrained weights from \"osnet_x0_25_msmt17.pt\"\n",
            "** The following layers are discarded due to unmatched keys or layer size: ['classifier.weight', 'classifier.bias']\n",
            "video 1/1 (1/2792) /content/Yolov5_StrongSORT_OSNet/out.avi: 384x640 6 persons, Done. YOLO:(0.736s), StrongSORT:(0.182s)\n",
            "video 1/1 (2/2792) /content/Yolov5_StrongSORT_OSNet/out.avi: 384x640 5 persons, Done. YOLO:(0.732s), StrongSORT:(0.144s)\n",
            "video 1/1 (3/2792) /content/Yolov5_StrongSORT_OSNet/out.avi: 384x640 6 persons, Done. YOLO:(0.701s), StrongSORT:(0.174s)\n",
            "video 1/1 (4/2792) /content/Yolov5_StrongSORT_OSNet/out.avi: 384x640 6 persons, Done. YOLO:(0.713s), StrongSORT:(0.174s)\n",
            "video 1/1 (5/2792) /content/Yolov5_StrongSORT_OSNet/out.avi: 384x640 6 persons, Done. YOLO:(0.862s), StrongSORT:(0.185s)\n",
            "video 1/1 (6/2792) /content/Yolov5_StrongSORT_OSNet/out.avi: 384x640 6 persons, Done. YOLO:(0.752s), StrongSORT:(0.181s)\n",
            "Traceback (most recent call last):\n",
            "  File \"/content/Yolov5_StrongSORT_OSNet/track.py\", line 322, in <module>\n",
            "    main(opt)\n",
            "  File \"/content/Yolov5_StrongSORT_OSNet/track.py\", line 317, in main\n",
            "    run(**vars(opt))\n",
            "  File \"/usr/local/lib/python3.7/dist-packages/torch/autograd/grad_mode.py\", line 27, in decorate_context\n",
            "    return func(*args, **kwargs)\n",
            "  File \"/content/Yolov5_StrongSORT_OSNet/track.py\", line 204, in run\n",
            "    outputs[i] = strongsort_list[i].update(xywhs.cpu(), confs.cpu(), clss.cpu(), im0)\n",
            "  File \"/content/Yolov5_StrongSORT_OSNet/strong_sort/strong_sort.py\", line 56, in update\n",
            "    features = self._get_features(bbox_xywh, ori_img)\n",
            "  File \"/content/Yolov5_StrongSORT_OSNet/strong_sort/strong_sort.py\", line 141, in _get_features\n",
            "    features = self.extractor(im_crops)\n",
            "  File \"strong_sort/deep/reid/torchreid/utils/feature_extractor.py\", line 118, in __call__\n",
            "    image = self.to_pil(element)\n",
            "  File \"/usr/local/lib/python3.7/dist-packages/torchvision/transforms/transforms.py\", line 226, in __call__\n",
            "    return F.to_pil_image(pic, self.mode)\n",
            "  File \"/usr/local/lib/python3.7/dist-packages/torchvision/transforms/functional.py\", line 334, in to_pil_image\n",
            "    return Image.fromarray(npimg, mode=mode)\n",
            "  File \"/usr/local/lib/python3.7/dist-packages/PIL/Image.py\", line 2731, in fromarray\n",
            "    obj = obj.tobytes()\n",
            "KeyboardInterrupt\n"
          ]
        }
      ]
    },
    {
      "cell_type": "markdown",
      "metadata": {
        "id": "vd-CFrVGBoEU"
      },
      "source": [
        "# Show results\n",
        "\n",
        "https://stackoverflow.com/questions/60977179/how-to-play-avi-file-in-google-colab\n",
        "\n",
        "Convert avi to mp4"
      ]
    },
    {
      "cell_type": "code",
      "metadata": {
        "id": "Q-4tlUaCBjDC"
      },
      "source": [
        "!ffmpeg -i /content/Yolov5_StrongSORT_OSNet/runs/track/exp4/out.mp4 output.mp4"
      ],
      "execution_count": null,
      "outputs": []
    },
    {
      "cell_type": "markdown",
      "metadata": {
        "id": "j7XAlRteC9qI"
      },
      "source": [
        "Get the file content into data_url"
      ]
    },
    {
      "cell_type": "code",
      "metadata": {
        "id": "-ObuFb7dBwxK"
      },
      "source": [
        "from IPython.display import HTML\n",
        "from base64 import b64encode\n",
        "mp4 = open('/content/Yolov5_StrongSORT_OSNet/runs/track/exp4/out.mp4','rb').read()\n",
        "data_url = \"data:video/mp4;base64,\" + b64encode(mp4).decode()"
      ],
      "execution_count": null,
      "outputs": []
    },
    {
      "cell_type": "markdown",
      "metadata": {
        "id": "kLvggIUZDC6R"
      },
      "source": [
        "Display it with HTML"
      ]
    },
    {
      "cell_type": "code",
      "metadata": {
        "id": "RyXr0xsZB897"
      },
      "source": [
        "HTML(\"\"\"\n",
        "<video controls>\n",
        "      <source src=\"%s\" type=\"video/mp4\">\n",
        "</video>\n",
        "\"\"\" % data_url)"
      ],
      "execution_count": null,
      "outputs": []
    }
  ]
}